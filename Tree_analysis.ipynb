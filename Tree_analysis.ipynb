{
 "metadata": {
  "name": "Tree_analysis"
 },
 "nbformat": 3,
 "nbformat_minor": 0,
 "worksheets": [
  {
   "cells": [
    {
     "cell_type": "code",
     "collapsed": false,
     "input": [
      "import LT.box as B\n",
      "import numpy as np\n",
      "from rootpy.io import root_open\n",
      "from rootpy.plotting import Canvas, Hist, Hist2D, Hist3D\n",
      "import root_numpy as RN\n",
      "import ROOT as R\n",
      "import bin_info2 as BI\n",
      "# load laget\n",
      "import Laget_Xsec_fp as LX\n",
      "# "
     ],
     "language": "python",
     "metadata": {},
     "outputs": [],
     "prompt_number": 2
    },
    {
     "cell_type": "code",
     "collapsed": false,
     "input": [
      "# initalize lage calc\n",
      "LX.init_laget('./',0,1)"
     ],
     "language": "python",
     "metadata": {},
     "outputs": [],
     "prompt_number": 30
    },
    {
     "cell_type": "code",
     "collapsed": false,
     "input": [
      "gev = 0.001\n",
      "dtr = np.pi/180.\n",
      "# check th_p_cm calculation\n",
      "MP = 938.27200*gev;\n",
      "MN = 939.56533*gev;\n",
      "MD = 1875.6127*gev;"
     ],
     "language": "python",
     "metadata": {},
     "outputs": [],
     "prompt_number": 3
    },
    {
     "cell_type": "code",
     "collapsed": false,
     "input": [
      "# charge in mc\n",
      "Q = 1000."
     ],
     "language": "python",
     "metadata": {},
     "outputs": [],
     "prompt_number": 4
    },
    {
     "cell_type": "code",
     "collapsed": false,
     "input": [
      "dir = \"./worksim/\"\n",
      "# file = dir+\"simc.root\"\n",
      "file = dir+\"simc_q3_d20.root\""
     ],
     "language": "python",
     "metadata": {},
     "outputs": [],
     "prompt_number": 251
    },
    {
     "cell_type": "code",
     "collapsed": false,
     "input": [
      "# fill histograms\n",
      "nbins = 200\n",
      "# missing momentum histogram\n",
      "pm_h = Hist(nbins, 0., 180., title = \"Missing Momentum (counts)\", name=\"pm_h\")\n",
      "pm_hs = Hist(nbins, 0., 180., title = \"Missing Momentum (sig)\", name=\"pm_hs\")\n",
      "pm_ps = Hist(nbins, 0., 180., title = \"Missing Momentum (ps)\", name=\"pm_ps\")\n",
      "# turn off calculation of SumW2\n",
      "pm_h.SetDefaultSumw2(0)\n",
      "\n",
      "# missing energy histogram\n",
      "em_h = Hist(210, -0.01, 0.2, title = \"Missing Energy\", name = \"em_h\")\n",
      "# em_h.fill_array(Em[all], weights = counts[all])\n"
     ],
     "language": "python",
     "metadata": {},
     "outputs": [],
     "prompt_number": 252
    },
    {
     "cell_type": "code",
     "collapsed": false,
     "input": [
      "#--------------------------------------------------------------\n",
      "# get branches as numpy arrays\n",
      "event=RN.root2array(file, treename=\"SNT\")\n"
     ],
     "language": "python",
     "metadata": {},
     "outputs": [],
     "prompt_number": 253
    },
    {
     "cell_type": "code",
     "collapsed": false,
     "input": [
      "# show the conten of the tree\n",
      "print \"trees in \", file, RN.list_trees(file)\n",
      "\n"
     ],
     "language": "python",
     "metadata": {},
     "outputs": [
      {
       "output_type": "stream",
       "stream": "stdout",
       "text": [
        "trees in  ./worksim/simc_q3_d20.root ['SNT']\n"
       ]
      }
     ],
     "prompt_number": 254
    },
    {
     "cell_type": "code",
     "collapsed": false,
     "input": [
      "branches = RN.list_branches(file, 'SNT')"
     ],
     "language": "python",
     "metadata": {},
     "outputs": [],
     "prompt_number": 255
    },
    {
     "cell_type": "code",
     "collapsed": false,
     "input": [
      "print branches\n"
     ],
     "language": "python",
     "metadata": {},
     "outputs": [
      {
       "output_type": "stream",
       "stream": "stdout",
       "text": [
        "['Normfac', 'h_delta', 'h_yptar', 'h_xptar', 'h_ytar', 'h_xfp', 'h_xpfp', 'h_yfp', 'h_ypfp', 'h_deltai', 'h_yptari', 'h_xptari', 'h_ytari', 'e_delta', 'e_yptar', 'e_xptar', 'e_ytar', 'e_xfp', 'e_xpfp', 'e_yfp', 'e_ypfp', 'e_deltai', 'e_yptari', 'e_xptari', 'e_ytari', 'q', 'nu', 'Q2', 'W', 'epsilon', 'Em', 'Pm', 'theta_pq', 'phi_pq', 'corrsing', 'Pmx', 'Pmy', 'Pmz', 'PmPar', 'PmPer', 'PmOop', 'fry', 'radphot', 'sigcc', 'Weight', 'Jacobian', 'theta_e', 'theta_p', 'tar_x', 'tar_y', 'tar_z', 'Genweight', 'SF_weight', 'Jacobian_corr', 'sig', 'sig_recon', 'sigcc_recon', 'coul_corr', 'h_zv', 'h_yv', 'e_zv', 'e_yv', 'h_pf', 'e_pf', 'Ein', 'theta_rq']\n"
       ]
      }
     ],
     "prompt_number": 256
    },
    {
     "cell_type": "code",
     "collapsed": false,
     "input": [
      "# get content of tree as arrays\n",
      "nevents = float(event.shape[0])\n",
      "\n",
      "# select a missing momentum range\n",
      "all_pm = event['Pm']\n",
      "good_pm = (0.180 < all_pm) & (all_pm < 0.220)\n",
      "\n",
      "Norm = event['Normfac'][0]\n",
      "jac = event['Jacobian'][good_pm]\n",
      "Em = event['Em'][good_pm]\n",
      "Weight = event['Weight'][good_pm]\n",
      "pm = event['Pm'][good_pm]\n",
      "p_f = event['h_pf'][good_pm]/1000.\n",
      "e_f = event['e_pf'][good_pm]/1000.\n",
      "theta_rq = event['theta_rq'][good_pm]\n",
      "theta_pq = event['theta_pq'][good_pm]\n",
      "# delta in fraction\n",
      "e_delta = event['e_delta'][good_pm]/100.\n",
      "qlab = event['q'][good_pm]\n",
      "# delta in fraction\n",
      "h_delta = event['h_delta'][good_pm]/100.\n",
      "# Jac corr.\n",
      "jcorr = event['Jacobian_corr'][good_pm]\n",
      "sig = event['sig'][good_pm]\n",
      "gw = event['Genweight'][good_pm]\n",
      "thrq = event['theta_rq'][good_pm]\n",
      "nu = event['nu'][good_pm]\n",
      "Q2 = event['Q2'][good_pm]\n",
      "\n",
      "the = event['theta_e'][good_pm]\n",
      "thp = event['theta_p'][good_pm]\n",
      "Ei = event['Ein'][good_pm]/1000.\n",
      "phi_pq = event['phi_pq'][good_pm]\n",
      "\n",
      "thnq =theta_rq/dtr\n",
      "\n"
     ],
     "language": "python",
     "metadata": {},
     "outputs": [],
     "prompt_number": 266
    },
    {
     "cell_type": "code",
     "collapsed": false,
     "input": [
      "o = open(\"graph.data\",\"w\")\n",
      "for i,ppm in enumerate(pm):\n",
      "    o.write( \"{0} {1}\\n\".format(thnq[i], sig[i]) )\n",
      "o.close()\n",
      "            "
     ],
     "language": "python",
     "metadata": {},
     "outputs": [],
     "prompt_number": 267
    },
    {
     "cell_type": "code",
     "collapsed": false,
     "input": [
      "counts = Weight*Norm/nevents*Q\n",
      "# PS factor\n",
      "ps_fact = gw*Norm/(jcorr*nevents)*Q"
     ],
     "language": "python",
     "metadata": {},
     "outputs": [],
     "prompt_number": 268
    },
    {
     "cell_type": "code",
     "collapsed": false,
     "input": [
      "# calculate recoil angle\n",
      "#thnq = (qlab**2 + pm**2 - p_f**2)/(2.*qlab*pm)\n",
      "#thnq = np.arccos(cthnq)/dtr"
     ],
     "language": "python",
     "metadata": {},
     "outputs": [],
     "prompt_number": 269
    },
    {
     "cell_type": "code",
     "collapsed": false,
     "input": [
      "#-------------------------------------------------------------- \n",
      "# prepare the weights for yield\n",
      "#--------------------------------------------------------------\n",
      "# fill histograms\n",
      "pm_h.fill_array( thnq, weights = counts)\n",
      "pm_ps.fill_array(thnq, weights = ps_fact)\n"
     ],
     "language": "python",
     "metadata": {},
     "outputs": [],
     "prompt_number": 270
    },
    {
     "cell_type": "code",
     "collapsed": false,
     "input": [
      "pm_ps.Sumw2()\n",
      "pm_h.Sumw2()\n",
      "hsig=pm_h/pm_ps\n",
      "hsig_bi = BI.get_histo_data_arrays(hsig)\n",
      "\n"
     ],
     "language": "python",
     "metadata": {},
     "outputs": [
      {
       "output_type": "stream",
       "stream": "stderr",
       "text": [
        "WARNING:ROOT.TH1F.Sumw2] Sum of squares of weights structure already created\n"
       ]
      },
      {
       "output_type": "stream",
       "stream": "stderr",
       "text": [
        "WARNING:ROOT.TH1F.Sumw2] Sum of squares of weights structure already created\n"
       ]
      }
     ],
     "prompt_number": 271
    },
    {
     "cell_type": "code",
     "collapsed": false,
     "input": [
      "hsig.SetNameTitle(\"hsig\",\"Av. Cross section\")\n",
      "hsig.SetLineColor(R.kRed)\n",
      "hsig.SetMarkerColor(R.kRed)"
     ],
     "language": "python",
     "metadata": {},
     "outputs": [],
     "prompt_number": 272
    },
    {
     "cell_type": "code",
     "collapsed": false,
     "input": [
      "gr = R.TGraph(\"graph.data\")\n",
      "gr.SetTitle(\"Calculated Cross Sections\")"
     ],
     "language": "python",
     "metadata": {},
     "outputs": [],
     "prompt_number": 273
    },
    {
     "cell_type": "code",
     "collapsed": false,
     "input": [
      "c1 = R.TCanvas( 'c1', 'Example with Formula', 200, 10, 700, 500 )\n",
      "gr.Draw(\"AP\")\n"
     ],
     "language": "python",
     "metadata": {},
     "outputs": [],
     "prompt_number": 274
    },
    {
     "cell_type": "code",
     "collapsed": false,
     "input": [
      "hsig.draw(\"err,same\")"
     ],
     "language": "python",
     "metadata": {},
     "outputs": [],
     "prompt_number": 275
    },
    {
     "cell_type": "code",
     "collapsed": false,
     "input": [
      "# calculate averaged kinematics\n",
      "# lage cross section needs:\n",
      "# sig1 = LX.get_sigma_laget(e0_i, q2, omega, th_cm, phi1)\n",
      "pm_Ay = Hist(nbins, 0., 180., name=\"pm_Ay\")\n",
      "pm_Ei = Hist(nbins, 0., 180., name=\"pm_Ei\")\n",
      "pm_omega = Hist(nbins, 0., 180., name=\"pm_omega\")\n",
      "pm_q = Hist(nbins, 0., 180., name=\"pm_q\")\n",
      "pm_cphi = Hist(nbins, 0., 180., name=\"pm_cphi\")\n",
      "pm_pf = Hist(nbins, 0., 180., name=\"pm_pf\")\n",
      "pm_pm = Hist(nbins, 0., 180., name=\"pm_pm\")\n",
      "pm_thnq = Hist(nbins, 0., 180., name=\"pm_thnq\")"
     ],
     "language": "python",
     "metadata": {},
     "outputs": [],
     "prompt_number": 276
    },
    {
     "cell_type": "code",
     "collapsed": false,
     "input": [
      "# fill histograms\n",
      "# reset histograms\n",
      "pm_Ay.Reset()\n",
      "pm_Ay.fill_array( thnq, weights = counts)\n",
      "pm_Ei.Reset()\n",
      "pm_Ei.fill_array( thnq, weights = Ei*counts)\n",
      "pm_omega.Reset()\n",
      "pm_omega.fill_array(thnq, weights = nu*counts)\n",
      "pm_q.Reset()\n",
      "pm_q.fill_array( thnq, weights = qlab*counts)\n",
      "pm_cphi.Reset()\n",
      "pm_cphi.fill_array( thnq, weights = np.cos(phi_pq)*counts)\n",
      "pm_pf.Reset()\n",
      "pm_pf.fill_array( thnq, weights = p_f*counts)\n",
      "pm_pm.Reset()\n",
      "pm_pm.fill_array( thnq, weights = pm*counts)\n",
      "pm_thnq.Reset()\n",
      "pm_thnq.fill_array( thnq, weights = thnq*counts)"
     ],
     "language": "python",
     "metadata": {},
     "outputs": [],
     "prompt_number": 277
    },
    {
     "cell_type": "code",
     "collapsed": false,
     "input": [
      "qlab.shape"
     ],
     "language": "python",
     "metadata": {},
     "outputs": [
      {
       "output_type": "pyout",
       "prompt_number": 278,
       "text": [
        "(1587,)"
       ]
      }
     ],
     "prompt_number": 278
    },
    {
     "cell_type": "code",
     "collapsed": false,
     "input": [
      "# histos with averaged values\n",
      "pm_Ei.Divide(pm_Ay)\n",
      "pm_omega.Divide(pm_Ay)\n",
      "pm_q.Divide(pm_Ay)\n",
      "pm_cphi.Divide(pm_Ay)\n",
      "pm_pf.Divide(pm_Ay)\n",
      "pm_pm.Divide(pm_Ay)\n",
      "pm_thnq.Divide(pm_Ay)"
     ],
     "language": "python",
     "metadata": {},
     "outputs": [
      {
       "output_type": "pyout",
       "prompt_number": 279,
       "text": [
        "True"
       ]
      }
     ],
     "prompt_number": 279
    },
    {
     "cell_type": "code",
     "collapsed": false,
     "input": [
      "# get bin info\n",
      "ei_bi = BI.get_histo_data_arrays(pm_Ei)\n",
      "omega_bi = BI.get_histo_data_arrays(pm_omega)\n",
      "q_bi = BI.get_histo_data_arrays(pm_q)\n",
      "cphi_bi = BI.get_histo_data_arrays(pm_cphi)\n",
      "pf_bi = BI.get_histo_data_arrays(pm_pf)\n",
      "pm_bi = BI.get_histo_data_arrays(pm_pm)\n",
      "thnq_bi = BI.get_histo_data_arrays(pm_thnq)\n",
      "# select good values\n",
      "nz = q_bi.cont > 0.\n",
      "# get arrays\n",
      "ei_a = ei_bi.cont[nz]\n",
      "omega_a = omega_bi.cont[nz]\n",
      "q_a = q_bi.cont[nz]\n",
      "cphi_a = cphi_bi.cont[nz]\n",
      "pf_a = pf_bi.cont[nz]\n",
      "pm_a = pm_bi.cont[nz]\n",
      "\n",
      "thnq_a = thnq_bi.cont[nz]\n",
      "\n",
      "sig_sim = hsig_bi.cont[nz]\n",
      "\n",
      "q2_a = q_a**2 - omega_a**2\n",
      "         "
     ],
     "language": "python",
     "metadata": {},
     "outputs": [],
     "prompt_number": 280
    },
    {
     "cell_type": "code",
     "collapsed": false,
     "input": [
      "# basic kinematics\n",
      "# CM angles\n",
      "Ep = np.sqrt(MP**2 + pf_a**2)\n",
      "beta = q_a/(MD + omega_a)\n",
      "gamma = np.sqrt(1./(1 - beta**2))\n",
      "p_par = (pf_a**2 + q_a**2 - pm_a**2)/(2.*q_a)\n",
      "p_perp = np.sqrt(pf_a**2 - p_par**2)\n",
      "# parallel component in CM\n",
      "p_par_cm = gamma*p_par - gamma*beta*Ep;\n",
      "# calculate CM angle\n",
      "th_p_cm = np.zeros_like(p_par_cm)\n",
      "# fill the various cases\n",
      "th_p_cm[p_par_cm == 0.] = np.pi  \n",
      "sel = p_par_cm > 0.\n",
      "th_p_cm[sel] = np.arctan(p_perp[sel]/p_par_cm[sel]);\n",
      "sel = p_par_cm < 0.\n",
      "th_p_cm[sel] = np.pi+np.arctan(p_perp[sel]/p_par_cm[sel]);\n",
      "theta_pq_cm = th_p_cm/dtr "
     ],
     "language": "python",
     "metadata": {},
     "outputs": [],
     "prompt_number": 281
    },
    {
     "cell_type": "code",
     "collapsed": false,
     "input": [
      "sig_av = np.zeros_like(theta_pq_cm)\n",
      "for i, t in enumerate(theta_pq_cm):\n",
      "    # print q2_a[i], omega_a[i], theta_pq_cm[i]\n",
      "    pl = LX.p_recoil(q2_a[i]*1.e6, omega_a[i]*1000., theta_pq_cm[i]*dtr) \n",
      "    phi_cm = np.arccos(cphi_a[i])\n",
      "    sig_av[i] = LX.get_sigma_laget(ei_a[i]*1000., q2_a[i]*1.e6, omega_a[i]*1000., theta_pq_cm[i]*dtr, phi_cm)\n",
      "    \n",
      "    \n"
     ],
     "language": "python",
     "metadata": {},
     "outputs": [],
     "prompt_number": 282
    },
    {
     "cell_type": "code",
     "collapsed": false,
     "input": [
      "B.plot_exp(thnq_a, sig_sim/(sig_av*1.e4))\n",
      "draw()"
     ],
     "language": "python",
     "metadata": {},
     "outputs": [],
     "prompt_number": 283
    },
    {
     "cell_type": "code",
     "collapsed": false,
     "input": [
      "ylim((0.,2.))"
     ],
     "language": "python",
     "metadata": {},
     "outputs": [
      {
       "output_type": "pyout",
       "prompt_number": 286,
       "text": [
        "(0.0, 2.0)"
       ]
      }
     ],
     "prompt_number": 286
    },
    {
     "cell_type": "code",
     "collapsed": false,
     "input": [],
     "language": "python",
     "metadata": {},
     "outputs": []
    }
   ],
   "metadata": {}
  }
 ]
}